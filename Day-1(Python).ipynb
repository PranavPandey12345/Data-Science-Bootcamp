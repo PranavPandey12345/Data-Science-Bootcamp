{
 "cells": [
  {
   "cell_type": "code",
   "execution_count": 1,
   "id": "9c9f985d",
   "metadata": {},
   "outputs": [],
   "source": [
    "a=10"
   ]
  },
  {
   "cell_type": "code",
   "execution_count": 2,
   "id": "42f8bc06",
   "metadata": {},
   "outputs": [
    {
     "data": {
      "text/plain": [
       "10"
      ]
     },
     "execution_count": 2,
     "metadata": {},
     "output_type": "execute_result"
    }
   ],
   "source": [
    "a"
   ]
  },
  {
   "cell_type": "code",
   "execution_count": 3,
   "id": "66d59249",
   "metadata": {},
   "outputs": [
    {
     "data": {
      "text/plain": [
       "30"
      ]
     },
     "execution_count": 3,
     "metadata": {},
     "output_type": "execute_result"
    }
   ],
   "source": [
    "a+20"
   ]
  },
  {
   "cell_type": "code",
   "execution_count": 4,
   "id": "d42d9c04",
   "metadata": {},
   "outputs": [
    {
     "data": {
      "text/plain": [
       "int"
      ]
     },
     "execution_count": 4,
     "metadata": {},
     "output_type": "execute_result"
    }
   ],
   "source": [
    "type(a)"
   ]
  },
  {
   "cell_type": "code",
   "execution_count": 5,
   "id": "1a488cb8",
   "metadata": {},
   "outputs": [],
   "source": [
    "s='audh'"
   ]
  },
  {
   "cell_type": "code",
   "execution_count": 6,
   "id": "d9b7103a",
   "metadata": {},
   "outputs": [
    {
     "data": {
      "text/plain": [
       "str"
      ]
     },
     "execution_count": 6,
     "metadata": {},
     "output_type": "execute_result"
    }
   ],
   "source": [
    "type(s)"
   ]
  },
  {
   "cell_type": "code",
   "execution_count": 7,
   "id": "9332a230",
   "metadata": {},
   "outputs": [],
   "source": [
    "b=56.56"
   ]
  },
  {
   "cell_type": "code",
   "execution_count": 8,
   "id": "08b88d4f",
   "metadata": {},
   "outputs": [
    {
     "data": {
      "text/plain": [
       "float"
      ]
     },
     "execution_count": 8,
     "metadata": {},
     "output_type": "execute_result"
    }
   ],
   "source": [
    "type(b)"
   ]
  },
  {
   "cell_type": "code",
   "execution_count": 9,
   "id": "c2369621",
   "metadata": {},
   "outputs": [],
   "source": [
    "s=\"fdf\""
   ]
  },
  {
   "cell_type": "code",
   "execution_count": 10,
   "id": "3caaacbf",
   "metadata": {},
   "outputs": [],
   "source": [
    "S=\"Pranav\""
   ]
  },
  {
   "cell_type": "code",
   "execution_count": 11,
   "id": "3debd484",
   "metadata": {},
   "outputs": [
    {
     "data": {
      "text/plain": [
       "'fdf'"
      ]
     },
     "execution_count": 11,
     "metadata": {},
     "output_type": "execute_result"
    }
   ],
   "source": [
    "s"
   ]
  },
  {
   "cell_type": "code",
   "execution_count": 12,
   "id": "eee1a3d2",
   "metadata": {},
   "outputs": [],
   "source": [
    "int=1"
   ]
  },
  {
   "cell_type": "code",
   "execution_count": 13,
   "id": "cefdfb1d",
   "metadata": {},
   "outputs": [
    {
     "data": {
      "text/plain": [
       "1"
      ]
     },
     "execution_count": 13,
     "metadata": {},
     "output_type": "execute_result"
    }
   ],
   "source": [
    "int"
   ]
  },
  {
   "cell_type": "code",
   "execution_count": 14,
   "id": "c04ed429",
   "metadata": {},
   "outputs": [
    {
     "ename": "TypeError",
     "evalue": "not all arguments converted during string formatting",
     "output_type": "error",
     "traceback": [
      "\u001b[1;31m---------------------------------------------------------------------------\u001b[0m",
      "\u001b[1;31mTypeError\u001b[0m                                 Traceback (most recent call last)",
      "Input \u001b[1;32mIn [14]\u001b[0m, in \u001b[0;36m<cell line: 1>\u001b[1;34m()\u001b[0m\n\u001b[1;32m----> 1\u001b[0m s\u001b[38;5;241m%\u001b[39m\u001b[38;5;241m=\u001b[39m\u001b[38;5;124m\"\u001b[39m\u001b[38;5;124mPranav\u001b[39m\u001b[38;5;124m\"\u001b[39m\n",
      "\u001b[1;31mTypeError\u001b[0m: not all arguments converted during string formatting"
     ]
    }
   ],
   "source": [
    "s%=\"Pranav\""
   ]
  },
  {
   "cell_type": "code",
   "execution_count": 15,
   "id": "bbde7957",
   "metadata": {},
   "outputs": [
    {
     "ename": "TypeError",
     "evalue": "unsupported operand type(s) for &=: 'str' and 'str'",
     "output_type": "error",
     "traceback": [
      "\u001b[1;31m---------------------------------------------------------------------------\u001b[0m",
      "\u001b[1;31mTypeError\u001b[0m                                 Traceback (most recent call last)",
      "Input \u001b[1;32mIn [15]\u001b[0m, in \u001b[0;36m<cell line: 1>\u001b[1;34m()\u001b[0m\n\u001b[1;32m----> 1\u001b[0m s\u001b[38;5;241m&\u001b[39m\u001b[38;5;241m=\u001b[39m\u001b[38;5;124m\"\u001b[39m\u001b[38;5;124mpra\u001b[39m\u001b[38;5;124m\"\u001b[39m\n",
      "\u001b[1;31mTypeError\u001b[0m: unsupported operand type(s) for &=: 'str' and 'str'"
     ]
    }
   ],
   "source": [
    "s&=\"pra\""
   ]
  },
  {
   "cell_type": "code",
   "execution_count": 16,
   "id": "44f8743e",
   "metadata": {},
   "outputs": [],
   "source": [
    "b=True"
   ]
  },
  {
   "cell_type": "code",
   "execution_count": 17,
   "id": "0f236121",
   "metadata": {},
   "outputs": [
    {
     "data": {
      "text/plain": [
       "True"
      ]
     },
     "execution_count": 17,
     "metadata": {},
     "output_type": "execute_result"
    }
   ],
   "source": [
    "b\n"
   ]
  },
  {
   "cell_type": "code",
   "execution_count": 18,
   "id": "4687eba0",
   "metadata": {},
   "outputs": [],
   "source": [
    "b1=False"
   ]
  },
  {
   "cell_type": "code",
   "execution_count": 19,
   "id": "4915a8f9",
   "metadata": {},
   "outputs": [
    {
     "data": {
      "text/plain": [
       "False"
      ]
     },
     "execution_count": 19,
     "metadata": {},
     "output_type": "execute_result"
    }
   ],
   "source": [
    "b1"
   ]
  },
  {
   "cell_type": "code",
   "execution_count": 20,
   "id": "27d0d706",
   "metadata": {},
   "outputs": [
    {
     "data": {
      "text/plain": [
       "1"
      ]
     },
     "execution_count": 20,
     "metadata": {},
     "output_type": "execute_result"
    }
   ],
   "source": [
    "True+False"
   ]
  },
  {
   "cell_type": "code",
   "execution_count": 21,
   "id": "0f800eed",
   "metadata": {},
   "outputs": [
    {
     "data": {
      "text/plain": [
       "0"
      ]
     },
     "execution_count": 21,
     "metadata": {},
     "output_type": "execute_result"
    }
   ],
   "source": [
    "False-False"
   ]
  },
  {
   "cell_type": "code",
   "execution_count": 22,
   "id": "fe87d6cc",
   "metadata": {},
   "outputs": [
    {
     "data": {
      "text/plain": [
       "1"
      ]
     },
     "execution_count": 22,
     "metadata": {},
     "output_type": "execute_result"
    }
   ],
   "source": [
    "True*True"
   ]
  },
  {
   "cell_type": "code",
   "execution_count": 23,
   "id": "63e98208",
   "metadata": {},
   "outputs": [],
   "source": [
    "c=7+7j"
   ]
  },
  {
   "cell_type": "code",
   "execution_count": 24,
   "id": "6096b76a",
   "metadata": {},
   "outputs": [
    {
     "data": {
      "text/plain": [
       "complex"
      ]
     },
     "execution_count": 24,
     "metadata": {},
     "output_type": "execute_result"
    }
   ],
   "source": [
    "type(c)"
   ]
  },
  {
   "cell_type": "code",
   "execution_count": 25,
   "id": "a9db30f6",
   "metadata": {},
   "outputs": [
    {
     "data": {
      "text/plain": [
       "7.0"
      ]
     },
     "execution_count": 25,
     "metadata": {},
     "output_type": "execute_result"
    }
   ],
   "source": [
    "c.real"
   ]
  },
  {
   "cell_type": "code",
   "execution_count": 27,
   "id": "a76afa41",
   "metadata": {},
   "outputs": [
    {
     "data": {
      "text/plain": [
       "7.0"
      ]
     },
     "execution_count": 27,
     "metadata": {},
     "output_type": "execute_result"
    }
   ],
   "source": [
    "c.imag"
   ]
  },
  {
   "cell_type": "code",
   "execution_count": 28,
   "id": "06adfb4f",
   "metadata": {},
   "outputs": [
    {
     "data": {
      "text/plain": [
       "'Pranav'"
      ]
     },
     "execution_count": 28,
     "metadata": {},
     "output_type": "execute_result"
    }
   ],
   "source": [
    "s=\"Pranav\"\n",
    "s"
   ]
  },
  {
   "cell_type": "code",
   "execution_count": 29,
   "id": "3ca3e200",
   "metadata": {},
   "outputs": [
    {
     "ename": "TypeError",
     "evalue": "can only concatenate str (not \"int\") to str",
     "output_type": "error",
     "traceback": [
      "\u001b[1;31m---------------------------------------------------------------------------\u001b[0m",
      "\u001b[1;31mTypeError\u001b[0m                                 Traceback (most recent call last)",
      "Input \u001b[1;32mIn [29]\u001b[0m, in \u001b[0;36m<cell line: 1>\u001b[1;34m()\u001b[0m\n\u001b[1;32m----> 1\u001b[0m \u001b[43ms\u001b[49m\u001b[38;5;241;43m+\u001b[39;49m\u001b[38;5;241;43m3\u001b[39;49m\n",
      "\u001b[1;31mTypeError\u001b[0m: can only concatenate str (not \"int\") to str"
     ]
    }
   ],
   "source": [
    "s+3"
   ]
  },
  {
   "cell_type": "code",
   "execution_count": 30,
   "id": "94091dcf",
   "metadata": {},
   "outputs": [
    {
     "data": {
      "text/plain": [
       "'Pranav3'"
      ]
     },
     "execution_count": 30,
     "metadata": {},
     "output_type": "execute_result"
    }
   ],
   "source": [
    "s+\"3\""
   ]
  },
  {
   "cell_type": "code",
   "execution_count": 31,
   "id": "a273d83c",
   "metadata": {},
   "outputs": [
    {
     "data": {
      "text/plain": [
       "'Pranav3'"
      ]
     },
     "execution_count": 31,
     "metadata": {},
     "output_type": "execute_result"
    }
   ],
   "source": [
    "s+str(3)"
   ]
  },
  {
   "cell_type": "code",
   "execution_count": 32,
   "id": "db2df0c8",
   "metadata": {},
   "outputs": [],
   "source": [
    "s=\"neuron\""
   ]
  },
  {
   "cell_type": "code",
   "execution_count": 33,
   "id": "a2a8f31c",
   "metadata": {},
   "outputs": [
    {
     "data": {
      "text/plain": [
       "str"
      ]
     },
     "execution_count": 33,
     "metadata": {},
     "output_type": "execute_result"
    }
   ],
   "source": [
    "type(s)"
   ]
  },
  {
   "cell_type": "code",
   "execution_count": 34,
   "id": "d4fba935",
   "metadata": {},
   "outputs": [
    {
     "data": {
      "text/plain": [
       "'n'"
      ]
     },
     "execution_count": 34,
     "metadata": {},
     "output_type": "execute_result"
    }
   ],
   "source": [
    "s[0]"
   ]
  },
  {
   "cell_type": "code",
   "execution_count": 35,
   "id": "51c603d5",
   "metadata": {},
   "outputs": [
    {
     "data": {
      "text/plain": [
       "'n'"
      ]
     },
     "execution_count": 35,
     "metadata": {},
     "output_type": "execute_result"
    }
   ],
   "source": [
    "s[5]"
   ]
  },
  {
   "cell_type": "code",
   "execution_count": 37,
   "id": "d527b420",
   "metadata": {},
   "outputs": [
    {
     "data": {
      "text/plain": [
       "'o'"
      ]
     },
     "execution_count": 37,
     "metadata": {},
     "output_type": "execute_result"
    }
   ],
   "source": [
    "s[-2]"
   ]
  },
  {
   "cell_type": "code",
   "execution_count": 41,
   "id": "36134206",
   "metadata": {},
   "outputs": [
    {
     "data": {
      "text/plain": [
       "\"this is my very first programming class's\""
      ]
     },
     "execution_count": 41,
     "metadata": {},
     "output_type": "execute_result"
    }
   ],
   "source": [
    "s1=\"this is my very first programming class's\"\n",
    "s1"
   ]
  },
  {
   "cell_type": "code",
   "execution_count": 42,
   "id": "14f6245c",
   "metadata": {},
   "outputs": [
    {
     "data": {
      "text/plain": [
       "'i'"
      ]
     },
     "execution_count": 42,
     "metadata": {},
     "output_type": "execute_result"
    }
   ],
   "source": [
    "s1[5]"
   ]
  },
  {
   "cell_type": "code",
   "execution_count": 43,
   "id": "b55bfbb0",
   "metadata": {},
   "outputs": [
    {
     "data": {
      "text/plain": [
       "'tp'"
      ]
     },
     "execution_count": 43,
     "metadata": {},
     "output_type": "execute_result"
    }
   ],
   "source": [
    "s1[0:24:22]"
   ]
  },
  {
   "cell_type": "code",
   "execution_count": 45,
   "id": "fa852d1c",
   "metadata": {},
   "outputs": [
    {
     "data": {
      "text/plain": [
       "'s my very first programm'"
      ]
     },
     "execution_count": 45,
     "metadata": {},
     "output_type": "execute_result"
    }
   ],
   "source": [
    "s1[6:30]"
   ]
  },
  {
   "cell_type": "code",
   "execution_count": 46,
   "id": "51561ff3",
   "metadata": {},
   "outputs": [
    {
     "data": {
      "text/plain": [
       "'his '"
      ]
     },
     "execution_count": 46,
     "metadata": {},
     "output_type": "execute_result"
    }
   ],
   "source": [
    "s1[1:5]"
   ]
  },
  {
   "cell_type": "code",
   "execution_count": 47,
   "id": "b9b537d7",
   "metadata": {},
   "outputs": [
    {
     "data": {
      "text/plain": [
       "'sm eyfrtporm'"
      ]
     },
     "execution_count": 47,
     "metadata": {},
     "output_type": "execute_result"
    }
   ],
   "source": [
    "s1[6:30:2]"
   ]
  },
  {
   "cell_type": "code",
   "execution_count": 48,
   "id": "814b03c9",
   "metadata": {},
   "outputs": [],
   "source": [
    "s=\"Python\""
   ]
  },
  {
   "cell_type": "code",
   "execution_count": 49,
   "id": "4ba90420",
   "metadata": {},
   "outputs": [
    {
     "data": {
      "text/plain": [
       "'Python'"
      ]
     },
     "execution_count": 49,
     "metadata": {},
     "output_type": "execute_result"
    }
   ],
   "source": [
    "s[0:9:1]"
   ]
  },
  {
   "cell_type": "code",
   "execution_count": 50,
   "id": "c8f098bc",
   "metadata": {},
   "outputs": [
    {
     "data": {
      "text/plain": [
       "''"
      ]
     },
     "execution_count": 50,
     "metadata": {},
     "output_type": "execute_result"
    }
   ],
   "source": [
    "s[0:8:-1]"
   ]
  },
  {
   "cell_type": "code",
   "execution_count": 59,
   "id": "6e9cee0e",
   "metadata": {},
   "outputs": [
    {
     "data": {
      "text/plain": [
       "''"
      ]
     },
     "execution_count": 59,
     "metadata": {},
     "output_type": "execute_result"
    }
   ],
   "source": [
    "s[8:0-1]"
   ]
  },
  {
   "cell_type": "code",
   "execution_count": 57,
   "id": "2d28a899",
   "metadata": {},
   "outputs": [
    {
     "data": {
      "text/plain": [
       "'nohty'"
      ]
     },
     "execution_count": 57,
     "metadata": {},
     "output_type": "execute_result"
    }
   ],
   "source": [
    "s[9:0:-1]"
   ]
  },
  {
   "cell_type": "code",
   "execution_count": 61,
   "id": "3a7578d1",
   "metadata": {},
   "outputs": [
    {
     "data": {
      "text/plain": [
       "'Pyt'"
      ]
     },
     "execution_count": 61,
     "metadata": {},
     "output_type": "execute_result"
    }
   ],
   "source": [
    "s[:-3]"
   ]
  },
  {
   "cell_type": "code",
   "execution_count": 62,
   "id": "168f64b7",
   "metadata": {},
   "outputs": [
    {
     "data": {
      "text/plain": [
       "'on'"
      ]
     },
     "execution_count": 62,
     "metadata": {},
     "output_type": "execute_result"
    }
   ],
   "source": [
    "s[-2:]"
   ]
  },
  {
   "cell_type": "code",
   "execution_count": 63,
   "id": "94ed9128",
   "metadata": {},
   "outputs": [
    {
     "data": {
      "text/plain": [
       "'Python'"
      ]
     },
     "execution_count": 63,
     "metadata": {},
     "output_type": "execute_result"
    }
   ],
   "source": [
    "s[::1]"
   ]
  },
  {
   "cell_type": "code",
   "execution_count": 64,
   "id": "be30405d",
   "metadata": {},
   "outputs": [
    {
     "data": {
      "text/plain": [
       "'nohtyP'"
      ]
     },
     "execution_count": 64,
     "metadata": {},
     "output_type": "execute_result"
    }
   ],
   "source": [
    "s[::-1]"
   ]
  },
  {
   "cell_type": "code",
   "execution_count": 70,
   "id": "a3e34778",
   "metadata": {},
   "outputs": [
    {
     "ename": "TypeError",
     "evalue": "'str' object does not support item assignment",
     "output_type": "error",
     "traceback": [
      "\u001b[1;31m---------------------------------------------------------------------------\u001b[0m",
      "\u001b[1;31mTypeError\u001b[0m                                 Traceback (most recent call last)",
      "Input \u001b[1;32mIn [70]\u001b[0m, in \u001b[0;36m<cell line: 1>\u001b[1;34m()\u001b[0m\n\u001b[1;32m----> 1\u001b[0m s[\u001b[38;5;241m8\u001b[39m:\u001b[38;5;241m0\u001b[39m:\u001b[38;5;241m-\u001b[39m\u001b[38;5;241m1\u001b[39m]\u001b[38;5;241m=\u001b[39m\u001b[38;5;124m'\u001b[39m\u001b[38;5;124monthpy how s will come?\u001b[39m\u001b[38;5;124m'\u001b[39m\n",
      "\u001b[1;31mTypeError\u001b[0m: 'str' object does not support item assignment"
     ]
    }
   ],
   "source": [
    "s[8:0:-1]='onthpy how s will come?'"
   ]
  },
  {
   "cell_type": "code",
   "execution_count": 66,
   "id": "fa809619",
   "metadata": {},
   "outputs": [],
   "source": [
    "s=\"neuron\""
   ]
  },
  {
   "cell_type": "code",
   "execution_count": 67,
   "id": "3667d0cd",
   "metadata": {},
   "outputs": [
    {
     "data": {
      "text/plain": [
       "''"
      ]
     },
     "execution_count": 67,
     "metadata": {},
     "output_type": "execute_result"
    }
   ],
   "source": [
    "s[-2:-7:1]"
   ]
  },
  {
   "cell_type": "code",
   "execution_count": 68,
   "id": "dfd2e9e2",
   "metadata": {},
   "outputs": [
    {
     "data": {
      "text/plain": [
       "'neur'"
      ]
     },
     "execution_count": 68,
     "metadata": {},
     "output_type": "execute_result"
    }
   ],
   "source": [
    "s[-7:-2:1]"
   ]
  },
  {
   "cell_type": "code",
   "execution_count": 69,
   "id": "4f8086dd",
   "metadata": {},
   "outputs": [
    {
     "data": {
      "text/plain": [
       "''"
      ]
     },
     "execution_count": 69,
     "metadata": {},
     "output_type": "execute_result"
    }
   ],
   "source": [
    "s[5:0]"
   ]
  },
  {
   "cell_type": "code",
   "execution_count": 71,
   "id": "4f4218ef",
   "metadata": {},
   "outputs": [
    {
     "data": {
      "text/plain": [
       "'neuro'"
      ]
     },
     "execution_count": 71,
     "metadata": {},
     "output_type": "execute_result"
    }
   ],
   "source": [
    "s[-7:-1:1]"
   ]
  },
  {
   "cell_type": "code",
   "execution_count": 72,
   "id": "87fbbfc5",
   "metadata": {},
   "outputs": [
    {
     "data": {
      "text/plain": [
       "''"
      ]
     },
     "execution_count": 72,
     "metadata": {},
     "output_type": "execute_result"
    }
   ],
   "source": [
    "s[-7:0:1]"
   ]
  },
  {
   "cell_type": "code",
   "execution_count": 73,
   "id": "30030064",
   "metadata": {},
   "outputs": [
    {
     "data": {
      "text/plain": [
       "''"
      ]
     },
     "execution_count": 73,
     "metadata": {},
     "output_type": "execute_result"
    }
   ],
   "source": [
    "s[:-1:-1]"
   ]
  },
  {
   "cell_type": "code",
   "execution_count": 74,
   "id": "c023d188",
   "metadata": {},
   "outputs": [
    {
     "data": {
      "text/plain": [
       "6"
      ]
     },
     "execution_count": 74,
     "metadata": {},
     "output_type": "execute_result"
    }
   ],
   "source": [
    "len(s)"
   ]
  },
  {
   "cell_type": "code",
   "execution_count": 75,
   "id": "28784086",
   "metadata": {},
   "outputs": [
    {
     "data": {
      "text/plain": [
       "'neuronneuron'"
      ]
     },
     "execution_count": 75,
     "metadata": {},
     "output_type": "execute_result"
    }
   ],
   "source": [
    "s*2"
   ]
  },
  {
   "cell_type": "code",
   "execution_count": 76,
   "id": "f85b9ef2",
   "metadata": {},
   "outputs": [
    {
     "data": {
      "text/plain": [
       "0"
      ]
     },
     "execution_count": 76,
     "metadata": {},
     "output_type": "execute_result"
    }
   ],
   "source": [
    "s.count('sum')"
   ]
  },
  {
   "cell_type": "code",
   "execution_count": 77,
   "id": "17e61a43",
   "metadata": {},
   "outputs": [
    {
     "data": {
      "text/plain": [
       "'neuron'"
      ]
     },
     "execution_count": 77,
     "metadata": {},
     "output_type": "execute_result"
    }
   ],
   "source": [
    "s"
   ]
  },
  {
   "cell_type": "code",
   "execution_count": 79,
   "id": "6e37e6b5",
   "metadata": {},
   "outputs": [
    {
     "data": {
      "text/plain": [
       "['ne', 'ron']"
      ]
     },
     "execution_count": 79,
     "metadata": {},
     "output_type": "execute_result"
    }
   ],
   "source": [
    "s.split('u')"
   ]
  },
  {
   "cell_type": "code",
   "execution_count": 80,
   "id": "1ebc6735",
   "metadata": {},
   "outputs": [
    {
     "data": {
      "text/plain": [
       "list"
      ]
     },
     "execution_count": 80,
     "metadata": {},
     "output_type": "execute_result"
    }
   ],
   "source": [
    "type(s.split('u'))"
   ]
  },
  {
   "cell_type": "code",
   "execution_count": 81,
   "id": "ab400346",
   "metadata": {},
   "outputs": [],
   "source": [
    "sw=\"\"\"Narendra Damodardas Modi is an Indian politician serving as the current prime minister of India since 26 May 2014. Modi was the chief minister of Gujarat from 2001 to 2014 and is the Member of Parliament for Varanasi\"\"\""
   ]
  },
  {
   "cell_type": "code",
   "execution_count": 83,
   "id": "f2fdb6f0",
   "metadata": {},
   "outputs": [],
   "source": [
    "sw=\"Narendra Damodardas Modi is an Indian politician serving as the current prime minister of India since 26 May 2014. Modi was the chief minister of Gujarat from 2001 to 2014 and is the Member of Parliament for Varanasi\""
   ]
  },
  {
   "cell_type": "code",
   "execution_count": 84,
   "id": "88d47b91",
   "metadata": {},
   "outputs": [
    {
     "data": {
      "text/plain": [
       "'Narendra Damodardas Modi is an Indian politician serving as the current prime minister of India since 26 May 2014. Modi was the chief minister of Gujarat from 2001 to 2014 and is the Member of Parliament for Varanasi'"
      ]
     },
     "execution_count": 84,
     "metadata": {},
     "output_type": "execute_result"
    }
   ],
   "source": [
    "sw"
   ]
  },
  {
   "cell_type": "code",
   "execution_count": 85,
   "id": "352e2d0a",
   "metadata": {},
   "outputs": [
    {
     "data": {
      "text/plain": [
       "['Narendra',\n",
       " 'Damodardas',\n",
       " 'Modi',\n",
       " 'is',\n",
       " 'an',\n",
       " 'Indian',\n",
       " 'politician',\n",
       " 'serving',\n",
       " 'as',\n",
       " 'the',\n",
       " 'current',\n",
       " 'prime',\n",
       " 'minister',\n",
       " 'of',\n",
       " 'India',\n",
       " 'since',\n",
       " '26',\n",
       " 'May',\n",
       " '2014.',\n",
       " 'Modi',\n",
       " 'was',\n",
       " 'the',\n",
       " 'chief',\n",
       " 'minister',\n",
       " 'of',\n",
       " 'Gujarat',\n",
       " 'from',\n",
       " '2001',\n",
       " 'to',\n",
       " '2014',\n",
       " 'and',\n",
       " 'is',\n",
       " 'the',\n",
       " 'Member',\n",
       " 'of',\n",
       " 'Parliament',\n",
       " 'for',\n",
       " 'Varanasi']"
      ]
     },
     "execution_count": 85,
     "metadata": {},
     "output_type": "execute_result"
    }
   ],
   "source": [
    "sw.split(' ')"
   ]
  },
  {
   "cell_type": "code",
   "execution_count": 86,
   "id": "36f100cd",
   "metadata": {},
   "outputs": [
    {
     "data": {
      "text/plain": [
       "'NARENDRA DAMODARDAS MODI IS AN INDIAN POLITICIAN SERVING AS THE CURRENT PRIME MINISTER OF INDIA SINCE 26 MAY 2014. MODI WAS THE CHIEF MINISTER OF GUJARAT FROM 2001 TO 2014 AND IS THE MEMBER OF PARLIAMENT FOR VARANASI'"
      ]
     },
     "execution_count": 86,
     "metadata": {},
     "output_type": "execute_result"
    }
   ],
   "source": [
    "sw.upper()"
   ]
  },
  {
   "cell_type": "code",
   "execution_count": 87,
   "id": "7268a1d5",
   "metadata": {},
   "outputs": [
    {
     "data": {
      "text/plain": [
       "'narendra damodardas modi is an indian politician serving as the current prime minister of india since 26 may 2014. modi was the chief minister of gujarat from 2001 to 2014 and is the member of parliament for varanasi'"
      ]
     },
     "execution_count": 87,
     "metadata": {},
     "output_type": "execute_result"
    }
   ],
   "source": [
    "sw.lower()"
   ]
  },
  {
   "cell_type": "code",
   "execution_count": 88,
   "id": "4a4e1f8f",
   "metadata": {},
   "outputs": [],
   "source": [
    "s=\"python class\""
   ]
  },
  {
   "cell_type": "code",
   "execution_count": 89,
   "id": "2ed5626b",
   "metadata": {},
   "outputs": [
    {
     "data": {
      "text/plain": [
       "'Python Class'"
      ]
     },
     "execution_count": 89,
     "metadata": {},
     "output_type": "execute_result"
    }
   ],
   "source": [
    "s.title()"
   ]
  },
  {
   "cell_type": "code",
   "execution_count": 90,
   "id": "2a1f2ff8",
   "metadata": {},
   "outputs": [
    {
     "data": {
      "text/plain": [
       "'Python class'"
      ]
     },
     "execution_count": 90,
     "metadata": {},
     "output_type": "execute_result"
    }
   ],
   "source": [
    "s.capitalize()"
   ]
  },
  {
   "cell_type": "code",
   "execution_count": 93,
   "id": "eb49758d",
   "metadata": {},
   "outputs": [],
   "source": [
    "s=\"PyThon ClaSS\""
   ]
  },
  {
   "cell_type": "code",
   "execution_count": 94,
   "id": "ca0ed929",
   "metadata": {},
   "outputs": [
    {
     "data": {
      "text/plain": [
       "'pYtHON cLAss'"
      ]
     },
     "execution_count": 94,
     "metadata": {},
     "output_type": "execute_result"
    }
   ],
   "source": [
    "s.swapcase()"
   ]
  },
  {
   "cell_type": "code",
   "execution_count": 95,
   "id": "ea96ad73",
   "metadata": {},
   "outputs": [
    {
     "data": {
      "text/plain": [
       "'SSalC nohTyP'"
      ]
     },
     "execution_count": 95,
     "metadata": {},
     "output_type": "execute_result"
    }
   ],
   "source": [
    "''.join(reversed(s))"
   ]
  },
  {
   "cell_type": "code",
   "execution_count": 96,
   "id": "2e6ece92",
   "metadata": {},
   "outputs": [
    {
     "data": {
      "text/plain": [
       "'SSalC nohTyP'"
      ]
     },
     "execution_count": 96,
     "metadata": {},
     "output_type": "execute_result"
    }
   ],
   "source": [
    "s[::-1]"
   ]
  },
  {
   "cell_type": "code",
   "execution_count": 97,
   "id": "67280ae0",
   "metadata": {},
   "outputs": [],
   "source": [
    "s=\"   py  th   \""
   ]
  },
  {
   "cell_type": "code",
   "execution_count": 98,
   "id": "307205aa",
   "metadata": {},
   "outputs": [
    {
     "data": {
      "text/plain": [
       "'py  th'"
      ]
     },
     "execution_count": 98,
     "metadata": {},
     "output_type": "execute_result"
    }
   ],
   "source": [
    "s.strip()"
   ]
  },
  {
   "cell_type": "code",
   "execution_count": 99,
   "id": "180a38fc",
   "metadata": {},
   "outputs": [
    {
     "data": {
      "text/plain": [
       "'   py  th   '"
      ]
     },
     "execution_count": 99,
     "metadata": {},
     "output_type": "execute_result"
    }
   ],
   "source": [
    "s"
   ]
  },
  {
   "cell_type": "code",
   "execution_count": 100,
   "id": "d2a13d27",
   "metadata": {},
   "outputs": [
    {
     "data": {
      "text/plain": [
       "'py  th   '"
      ]
     },
     "execution_count": 100,
     "metadata": {},
     "output_type": "execute_result"
    }
   ],
   "source": [
    "s.lstrip()"
   ]
  },
  {
   "cell_type": "code",
   "execution_count": 101,
   "id": "c6802038",
   "metadata": {},
   "outputs": [
    {
     "data": {
      "text/plain": [
       "'   py  th'"
      ]
     },
     "execution_count": 101,
     "metadata": {},
     "output_type": "execute_result"
    }
   ],
   "source": [
    "s.rstrip()"
   ]
  },
  {
   "cell_type": "code",
   "execution_count": 102,
   "id": "8bc4b7ec",
   "metadata": {},
   "outputs": [
    {
     "data": {
      "text/plain": [
       "'payatahaoan'"
      ]
     },
     "execution_count": 102,
     "metadata": {},
     "output_type": "execute_result"
    }
   ],
   "source": [
    "\"a\" .join(\"python\")"
   ]
  },
  {
   "cell_type": "code",
   "execution_count": 103,
   "id": "f7a25c19",
   "metadata": {},
   "outputs": [],
   "source": [
    "s=\"pyth\""
   ]
  },
  {
   "cell_type": "code",
   "execution_count": 104,
   "id": "d78b3072",
   "metadata": {},
   "outputs": [
    {
     "data": {
      "text/plain": [
       "'########pyth########'"
      ]
     },
     "execution_count": 104,
     "metadata": {},
     "output_type": "execute_result"
    }
   ],
   "source": [
    "s.center(20,'#')"
   ]
  },
  {
   "cell_type": "code",
   "execution_count": 105,
   "id": "feb16f62",
   "metadata": {},
   "outputs": [],
   "source": [
    "s='python'"
   ]
  },
  {
   "cell_type": "code",
   "execution_count": 107,
   "id": "d8382adf",
   "metadata": {},
   "outputs": [
    {
     "data": {
      "text/plain": [
       "False"
      ]
     },
     "execution_count": 107,
     "metadata": {},
     "output_type": "execute_result"
    }
   ],
   "source": [
    "s.isupper()"
   ]
  },
  {
   "cell_type": "code",
   "execution_count": 108,
   "id": "5a6ebeab",
   "metadata": {},
   "outputs": [],
   "source": [
    "s1=\"PYTH\""
   ]
  },
  {
   "cell_type": "code",
   "execution_count": 109,
   "id": "dc846bb4",
   "metadata": {},
   "outputs": [
    {
     "data": {
      "text/plain": [
       "True"
      ]
     },
     "execution_count": 109,
     "metadata": {},
     "output_type": "execute_result"
    }
   ],
   "source": [
    "s1.isupper()"
   ]
  },
  {
   "cell_type": "code",
   "execution_count": 110,
   "id": "739da6cc",
   "metadata": {},
   "outputs": [
    {
     "data": {
      "text/plain": [
       "False"
      ]
     },
     "execution_count": 110,
     "metadata": {},
     "output_type": "execute_result"
    }
   ],
   "source": [
    "s.isspace()"
   ]
  },
  {
   "cell_type": "code",
   "execution_count": 111,
   "id": "118c7161",
   "metadata": {},
   "outputs": [],
   "source": [
    "s4=\"  \""
   ]
  },
  {
   "cell_type": "code",
   "execution_count": 112,
   "id": "011f1adf",
   "metadata": {},
   "outputs": [
    {
     "data": {
      "text/plain": [
       "True"
      ]
     },
     "execution_count": 112,
     "metadata": {},
     "output_type": "execute_result"
    }
   ],
   "source": [
    "s4.isspace()"
   ]
  },
  {
   "cell_type": "code",
   "execution_count": 113,
   "id": "04b9c518",
   "metadata": {},
   "outputs": [],
   "source": [
    "s=\"python\""
   ]
  },
  {
   "cell_type": "code",
   "execution_count": 114,
   "id": "6a4010ec",
   "metadata": {},
   "outputs": [
    {
     "data": {
      "text/plain": [
       "False"
      ]
     },
     "execution_count": 114,
     "metadata": {},
     "output_type": "execute_result"
    }
   ],
   "source": [
    "s.isdigit()"
   ]
  },
  {
   "cell_type": "code",
   "execution_count": 115,
   "id": "d03e94de",
   "metadata": {},
   "outputs": [],
   "source": [
    "s=\"sd45gt6\""
   ]
  },
  {
   "cell_type": "code",
   "execution_count": 116,
   "id": "3e000af2",
   "metadata": {},
   "outputs": [
    {
     "data": {
      "text/plain": [
       "False"
      ]
     },
     "execution_count": 116,
     "metadata": {},
     "output_type": "execute_result"
    }
   ],
   "source": [
    "s.isdigit()"
   ]
  },
  {
   "cell_type": "code",
   "execution_count": 118,
   "id": "84c8ce3d",
   "metadata": {},
   "outputs": [],
   "source": [
    "s=\"python\""
   ]
  },
  {
   "cell_type": "code",
   "execution_count": 119,
   "id": "e51ef1c3",
   "metadata": {},
   "outputs": [
    {
     "data": {
      "text/plain": [
       "True"
      ]
     },
     "execution_count": 119,
     "metadata": {},
     "output_type": "execute_result"
    }
   ],
   "source": [
    "s.isalnum()"
   ]
  },
  {
   "cell_type": "code",
   "execution_count": 120,
   "id": "40e24704",
   "metadata": {},
   "outputs": [
    {
     "data": {
      "text/plain": [
       "True"
      ]
     },
     "execution_count": 120,
     "metadata": {},
     "output_type": "execute_result"
    }
   ],
   "source": [
    "s.isalpha()"
   ]
  },
  {
   "cell_type": "code",
   "execution_count": 121,
   "id": "254ecc79",
   "metadata": {},
   "outputs": [],
   "source": [
    "s2=\"345345hgg\""
   ]
  },
  {
   "cell_type": "code",
   "execution_count": 122,
   "id": "8a2d8b04",
   "metadata": {},
   "outputs": [
    {
     "data": {
      "text/plain": [
       "False"
      ]
     },
     "execution_count": 122,
     "metadata": {},
     "output_type": "execute_result"
    }
   ],
   "source": [
    "s2.isalpha()"
   ]
  },
  {
   "cell_type": "code",
   "execution_count": 123,
   "id": "7bac468a",
   "metadata": {},
   "outputs": [
    {
     "data": {
      "text/plain": [
       "'python'"
      ]
     },
     "execution_count": 123,
     "metadata": {},
     "output_type": "execute_result"
    }
   ],
   "source": [
    "s"
   ]
  },
  {
   "cell_type": "code",
   "execution_count": 124,
   "id": "a05b7930",
   "metadata": {},
   "outputs": [
    {
     "data": {
      "text/plain": [
       "False"
      ]
     },
     "execution_count": 124,
     "metadata": {},
     "output_type": "execute_result"
    }
   ],
   "source": [
    "s.startswith('i')"
   ]
  },
  {
   "cell_type": "code",
   "execution_count": 125,
   "id": "46173b51",
   "metadata": {},
   "outputs": [
    {
     "data": {
      "text/plain": [
       "False"
      ]
     },
     "execution_count": 125,
     "metadata": {},
     "output_type": "execute_result"
    }
   ],
   "source": [
    "s.startswith('S')"
   ]
  },
  {
   "cell_type": "code",
   "execution_count": 126,
   "id": "c72548c5",
   "metadata": {},
   "outputs": [
    {
     "data": {
      "text/plain": [
       "True"
      ]
     },
     "execution_count": 126,
     "metadata": {},
     "output_type": "execute_result"
    }
   ],
   "source": [
    "s.endswith('n')"
   ]
  },
  {
   "cell_type": "code",
   "execution_count": 127,
   "id": "b8b9fe39",
   "metadata": {},
   "outputs": [
    {
     "data": {
      "text/plain": [
       "'python'"
      ]
     },
     "execution_count": 127,
     "metadata": {},
     "output_type": "execute_result"
    }
   ],
   "source": [
    "s"
   ]
  },
  {
   "cell_type": "code",
   "execution_count": 128,
   "id": "6c00fe48",
   "metadata": {},
   "outputs": [
    {
     "data": {
      "text/plain": [
       "True"
      ]
     },
     "execution_count": 128,
     "metadata": {},
     "output_type": "execute_result"
    }
   ],
   "source": [
    "s.startswith(\"\")"
   ]
  },
  {
   "cell_type": "code",
   "execution_count": 129,
   "id": "090b339d",
   "metadata": {},
   "outputs": [
    {
     "data": {
      "text/plain": [
       "True"
      ]
     },
     "execution_count": 129,
     "metadata": {},
     "output_type": "execute_result"
    }
   ],
   "source": [
    "s.isascii()"
   ]
  },
  {
   "cell_type": "code",
   "execution_count": 130,
   "id": "ef223596",
   "metadata": {},
   "outputs": [
    {
     "data": {
      "text/plain": [
       "True"
      ]
     },
     "execution_count": 130,
     "metadata": {},
     "output_type": "execute_result"
    }
   ],
   "source": [
    "s='python123'\n",
    "s.isalnum()"
   ]
  },
  {
   "cell_type": "code",
   "execution_count": 131,
   "id": "52a10166",
   "metadata": {},
   "outputs": [
    {
     "data": {
      "text/plain": [
       "False"
      ]
     },
     "execution_count": 131,
     "metadata": {},
     "output_type": "execute_result"
    }
   ],
   "source": [
    "s='python123  '\n",
    "s.isalnum()"
   ]
  },
  {
   "cell_type": "code",
   "execution_count": 132,
   "id": "026f124c",
   "metadata": {},
   "outputs": [
    {
     "data": {
      "text/plain": [
       "False"
      ]
     },
     "execution_count": 132,
     "metadata": {},
     "output_type": "execute_result"
    }
   ],
   "source": [
    "s=' 5 '\n",
    "s.isspace()"
   ]
  },
  {
   "cell_type": "code",
   "execution_count": 133,
   "id": "7e65b1fb",
   "metadata": {},
   "outputs": [
    {
     "data": {
      "text/plain": [
       "False"
      ]
     },
     "execution_count": 133,
     "metadata": {},
     "output_type": "execute_result"
    }
   ],
   "source": [
    "s=\" 6   \"\n",
    "s.isspace()"
   ]
  },
  {
   "cell_type": "code",
   "execution_count": 134,
   "id": "9779dabb",
   "metadata": {},
   "outputs": [],
   "source": [
    "s=\"567652\""
   ]
  },
  {
   "cell_type": "code",
   "execution_count": 136,
   "id": "2079100a",
   "metadata": {},
   "outputs": [
    {
     "data": {
      "text/plain": [
       "True"
      ]
     },
     "execution_count": 136,
     "metadata": {},
     "output_type": "execute_result"
    }
   ],
   "source": [
    "s.isdigit()"
   ]
  },
  {
   "cell_type": "code",
   "execution_count": 137,
   "id": "08fe0c3a",
   "metadata": {},
   "outputs": [],
   "source": [
    "s1=\"fasfdsa345346346\""
   ]
  },
  {
   "cell_type": "code",
   "execution_count": 138,
   "id": "1477877e",
   "metadata": {},
   "outputs": [
    {
     "data": {
      "text/plain": [
       "False"
      ]
     },
     "execution_count": 138,
     "metadata": {},
     "output_type": "execute_result"
    }
   ],
   "source": [
    "s1.isnumeric()"
   ]
  },
  {
   "cell_type": "code",
   "execution_count": 139,
   "id": "d9af2915",
   "metadata": {},
   "outputs": [],
   "source": [
    "s2=\"345435 3455 3453\""
   ]
  },
  {
   "cell_type": "code",
   "execution_count": 140,
   "id": "e0429a41",
   "metadata": {},
   "outputs": [
    {
     "data": {
      "text/plain": [
       "False"
      ]
     },
     "execution_count": 140,
     "metadata": {},
     "output_type": "execute_result"
    }
   ],
   "source": [
    "s2.isnumeric()"
   ]
  },
  {
   "cell_type": "code",
   "execution_count": 141,
   "id": "3612af56",
   "metadata": {},
   "outputs": [
    {
     "data": {
      "text/plain": [
       "False"
      ]
     },
     "execution_count": 141,
     "metadata": {},
     "output_type": "execute_result"
    }
   ],
   "source": [
    "s2.isdigit()"
   ]
  },
  {
   "cell_type": "code",
   "execution_count": 142,
   "id": "5f67743d",
   "metadata": {},
   "outputs": [],
   "source": [
    "s=56"
   ]
  },
  {
   "cell_type": "code",
   "execution_count": 143,
   "id": "bbd4191d",
   "metadata": {},
   "outputs": [],
   "source": [
    "s=\"pyth\""
   ]
  },
  {
   "cell_type": "code",
   "execution_count": 144,
   "id": "e6c0237a",
   "metadata": {},
   "outputs": [
    {
     "data": {
      "text/plain": [
       "<reversed at 0x1647de34f40>"
      ]
     },
     "execution_count": 144,
     "metadata": {},
     "output_type": "execute_result"
    }
   ],
   "source": [
    "reversed(s)"
   ]
  },
  {
   "cell_type": "code",
   "execution_count": 145,
   "id": "34864158",
   "metadata": {},
   "outputs": [
    {
     "data": {
      "text/plain": [
       "'pdydtdhdodn'"
      ]
     },
     "execution_count": 145,
     "metadata": {},
     "output_type": "execute_result"
    }
   ],
   "source": [
    "'d'.join(\"python\")"
   ]
  },
  {
   "cell_type": "code",
   "execution_count": null,
   "id": "2256084c",
   "metadata": {},
   "outputs": [],
   "source": [
    "\"\".join"
   ]
  },
  {
   "cell_type": "code",
   "execution_count": 146,
   "id": "0f9eebca",
   "metadata": {},
   "outputs": [],
   "source": [
    "s=\"453453.456\""
   ]
  },
  {
   "cell_type": "code",
   "execution_count": 147,
   "id": "ca9f0f07",
   "metadata": {},
   "outputs": [
    {
     "data": {
      "text/plain": [
       "False"
      ]
     },
     "execution_count": 147,
     "metadata": {},
     "output_type": "execute_result"
    }
   ],
   "source": [
    "s.isdigit()"
   ]
  },
  {
   "cell_type": "code",
   "execution_count": 148,
   "id": "0f53c13a",
   "metadata": {},
   "outputs": [
    {
     "data": {
      "text/plain": [
       "False"
      ]
     },
     "execution_count": 148,
     "metadata": {},
     "output_type": "execute_result"
    }
   ],
   "source": [
    "s.isnumeric()"
   ]
  },
  {
   "cell_type": "code",
   "execution_count": 149,
   "id": "7bb13bcf",
   "metadata": {},
   "outputs": [],
   "source": [
    "s='python\\tclass\\tprogramm'"
   ]
  },
  {
   "cell_type": "code",
   "execution_count": 150,
   "id": "a6e4c140",
   "metadata": {},
   "outputs": [
    {
     "data": {
      "text/plain": [
       "'python  class   programm'"
      ]
     },
     "execution_count": 150,
     "metadata": {},
     "output_type": "execute_result"
    }
   ],
   "source": [
    "s.expandtabs()"
   ]
  },
  {
   "cell_type": "code",
   "execution_count": 151,
   "id": "278507ed",
   "metadata": {},
   "outputs": [
    {
     "data": {
      "text/plain": [
       "'hhe     gge     hhe'"
      ]
     },
     "execution_count": 151,
     "metadata": {},
     "output_type": "execute_result"
    }
   ],
   "source": [
    "s=\"hhe\\tgge\\thhe\"\n",
    "s.expandtabs()\n"
   ]
  },
  {
   "cell_type": "code",
   "execution_count": 157,
   "id": "6c286b6d",
   "metadata": {},
   "outputs": [],
   "source": [
    "l=[1,2,3,4,5,\"python\",45.67,True]"
   ]
  },
  {
   "cell_type": "code",
   "execution_count": 158,
   "id": "70bd05d2",
   "metadata": {},
   "outputs": [
    {
     "data": {
      "text/plain": [
       "1"
      ]
     },
     "execution_count": 158,
     "metadata": {},
     "output_type": "execute_result"
    }
   ],
   "source": [
    "l[0]"
   ]
  },
  {
   "cell_type": "code",
   "execution_count": 159,
   "id": "04afdc5f",
   "metadata": {},
   "outputs": [
    {
     "data": {
      "text/plain": [
       "8"
      ]
     },
     "execution_count": 159,
     "metadata": {},
     "output_type": "execute_result"
    }
   ],
   "source": [
    "len(l)"
   ]
  },
  {
   "cell_type": "code",
   "execution_count": 160,
   "id": "c0641ec9",
   "metadata": {},
   "outputs": [
    {
     "data": {
      "text/plain": [
       "[1, 2, 3, 4, 5]"
      ]
     },
     "execution_count": 160,
     "metadata": {},
     "output_type": "execute_result"
    }
   ],
   "source": [
    "l[0:5]"
   ]
  },
  {
   "cell_type": "code",
   "execution_count": 161,
   "id": "1ce8a7fa",
   "metadata": {},
   "outputs": [
    {
     "data": {
      "text/plain": [
       "[True, 45.67, 'python', 5, 4, 3, 2, 1]"
      ]
     },
     "execution_count": 161,
     "metadata": {},
     "output_type": "execute_result"
    }
   ],
   "source": [
    "l[::-1]"
   ]
  },
  {
   "cell_type": "code",
   "execution_count": 162,
   "id": "fc456cf9",
   "metadata": {},
   "outputs": [
    {
     "data": {
      "text/plain": [
       "[1, 3, 5, 45.67]"
      ]
     },
     "execution_count": 162,
     "metadata": {},
     "output_type": "execute_result"
    }
   ],
   "source": [
    "l[0:100:2]"
   ]
  },
  {
   "cell_type": "code",
   "execution_count": 163,
   "id": "f8858e70",
   "metadata": {},
   "outputs": [
    {
     "data": {
      "text/plain": [
       "[1, 2, 3, 4, 5, 'python', 45.67, True]"
      ]
     },
     "execution_count": 163,
     "metadata": {},
     "output_type": "execute_result"
    }
   ],
   "source": [
    "l"
   ]
  },
  {
   "cell_type": "code",
   "execution_count": 164,
   "id": "bdc2a9eb",
   "metadata": {},
   "outputs": [
    {
     "data": {
      "text/plain": [
       "[]"
      ]
     },
     "execution_count": 164,
     "metadata": {},
     "output_type": "execute_result"
    }
   ],
   "source": [
    "l[0:8:-1]"
   ]
  },
  {
   "cell_type": "code",
   "execution_count": 165,
   "id": "1bc8fb55",
   "metadata": {},
   "outputs": [
    {
     "data": {
      "text/plain": [
       "[1, 2, 3]"
      ]
     },
     "execution_count": 165,
     "metadata": {},
     "output_type": "execute_result"
    }
   ],
   "source": [
    "l[:3]"
   ]
  },
  {
   "cell_type": "code",
   "execution_count": 166,
   "id": "4e5f8f2d",
   "metadata": {},
   "outputs": [
    {
     "data": {
      "text/plain": [
       "[1, 2, 3, 4, 5, 'python', 45.67, True, 'python']"
      ]
     },
     "execution_count": 166,
     "metadata": {},
     "output_type": "execute_result"
    }
   ],
   "source": [
    "l+[\"python\"]"
   ]
  },
  {
   "cell_type": "code",
   "execution_count": 167,
   "id": "1d1f7091",
   "metadata": {},
   "outputs": [
    {
     "data": {
      "text/plain": [
       "[1, 2, 3, 4, 5, 'python', 45.67, True, 1, 2, 3, 4, 5, 'python', 45.67, True]"
      ]
     },
     "execution_count": 167,
     "metadata": {},
     "output_type": "execute_result"
    }
   ],
   "source": [
    "l*2"
   ]
  },
  {
   "cell_type": "code",
   "execution_count": 168,
   "id": "7142b8a0",
   "metadata": {},
   "outputs": [
    {
     "data": {
      "text/plain": [
       "[1, 2, 3, 4, 5, 'python', 45.67, True]"
      ]
     },
     "execution_count": 168,
     "metadata": {},
     "output_type": "execute_result"
    }
   ],
   "source": [
    "l"
   ]
  },
  {
   "cell_type": "code",
   "execution_count": 169,
   "id": "ffc27b6b",
   "metadata": {},
   "outputs": [
    {
     "data": {
      "text/plain": [
       "False"
      ]
     },
     "execution_count": 169,
     "metadata": {},
     "output_type": "execute_result"
    }
   ],
   "source": [
    "60 in l"
   ]
  },
  {
   "cell_type": "code",
   "execution_count": 170,
   "id": "f819663b",
   "metadata": {},
   "outputs": [
    {
     "data": {
      "text/plain": [
       "True"
      ]
     },
     "execution_count": 170,
     "metadata": {},
     "output_type": "execute_result"
    }
   ],
   "source": [
    "2 in l"
   ]
  },
  {
   "cell_type": "code",
   "execution_count": 171,
   "id": "4dce93b8",
   "metadata": {},
   "outputs": [
    {
     "ename": "TypeError",
     "evalue": "'>' not supported between instances of 'str' and 'int'",
     "output_type": "error",
     "traceback": [
      "\u001b[1;31m---------------------------------------------------------------------------\u001b[0m",
      "\u001b[1;31mTypeError\u001b[0m                                 Traceback (most recent call last)",
      "Input \u001b[1;32mIn [171]\u001b[0m, in \u001b[0;36m<cell line: 1>\u001b[1;34m()\u001b[0m\n\u001b[1;32m----> 1\u001b[0m \u001b[38;5;28;43mmax\u001b[39;49m\u001b[43m(\u001b[49m\u001b[43ml\u001b[49m\u001b[43m)\u001b[49m\n",
      "\u001b[1;31mTypeError\u001b[0m: '>' not supported between instances of 'str' and 'int'"
     ]
    }
   ],
   "source": [
    "max(l)"
   ]
  },
  {
   "cell_type": "code",
   "execution_count": 172,
   "id": "c827c036",
   "metadata": {},
   "outputs": [],
   "source": [
    "l1=[3,4,5,6,6]"
   ]
  },
  {
   "cell_type": "code",
   "execution_count": 173,
   "id": "33876292",
   "metadata": {},
   "outputs": [
    {
     "data": {
      "text/plain": [
       "6"
      ]
     },
     "execution_count": 173,
     "metadata": {},
     "output_type": "execute_result"
    }
   ],
   "source": [
    "max(l1)"
   ]
  },
  {
   "cell_type": "code",
   "execution_count": 174,
   "id": "fe48227e",
   "metadata": {},
   "outputs": [
    {
     "data": {
      "text/plain": [
       "[1, 2, 3, 4, 5, 'python', 45.67, True]"
      ]
     },
     "execution_count": 174,
     "metadata": {},
     "output_type": "execute_result"
    }
   ],
   "source": [
    "l"
   ]
  },
  {
   "cell_type": "code",
   "execution_count": 175,
   "id": "d5d4c3c3",
   "metadata": {},
   "outputs": [],
   "source": [
    "l2=[\"python\",\"deep\",\"learning\"]"
   ]
  },
  {
   "cell_type": "code",
   "execution_count": 176,
   "id": "e92264b7",
   "metadata": {},
   "outputs": [
    {
     "data": {
      "text/plain": [
       "'python'"
      ]
     },
     "execution_count": 176,
     "metadata": {},
     "output_type": "execute_result"
    }
   ],
   "source": [
    "max(l2)"
   ]
  },
  {
   "cell_type": "code",
   "execution_count": 177,
   "id": "b092e32b",
   "metadata": {},
   "outputs": [
    {
     "data": {
      "text/plain": [
       "3"
      ]
     },
     "execution_count": 177,
     "metadata": {},
     "output_type": "execute_result"
    }
   ],
   "source": [
    "min(l1)"
   ]
  },
  {
   "cell_type": "code",
   "execution_count": 178,
   "id": "2fcf0b2c",
   "metadata": {},
   "outputs": [
    {
     "data": {
      "text/plain": [
       "'deep'"
      ]
     },
     "execution_count": 178,
     "metadata": {},
     "output_type": "execute_result"
    }
   ],
   "source": [
    "min(l2)"
   ]
  },
  {
   "cell_type": "code",
   "execution_count": 179,
   "id": "ceac0e00",
   "metadata": {},
   "outputs": [
    {
     "data": {
      "text/plain": [
       "[1, 2, 3, 4, 5, 'python', 45.67, True]"
      ]
     },
     "execution_count": 179,
     "metadata": {},
     "output_type": "execute_result"
    }
   ],
   "source": [
    "l"
   ]
  },
  {
   "cell_type": "code",
   "execution_count": 180,
   "id": "61599a86",
   "metadata": {},
   "outputs": [
    {
     "data": {
      "text/plain": [
       "'learning'"
      ]
     },
     "execution_count": 180,
     "metadata": {},
     "output_type": "execute_result"
    }
   ],
   "source": [
    "l2[2]"
   ]
  },
  {
   "cell_type": "code",
   "execution_count": 181,
   "id": "005b7ef8",
   "metadata": {},
   "outputs": [],
   "source": [
    "l.append(\"pyton\")"
   ]
  },
  {
   "cell_type": "code",
   "execution_count": 182,
   "id": "46c2e670",
   "metadata": {},
   "outputs": [
    {
     "data": {
      "text/plain": [
       "[1, 2, 3, 4, 5, 'python', 45.67, True, 'pyton']"
      ]
     },
     "execution_count": 182,
     "metadata": {},
     "output_type": "execute_result"
    }
   ],
   "source": [
    "l"
   ]
  },
  {
   "cell_type": "code",
   "execution_count": 183,
   "id": "6713c71d",
   "metadata": {},
   "outputs": [],
   "source": [
    "#one by one append->.extense()\n",
    "l.append([1,2,3,4])\n"
   ]
  },
  {
   "cell_type": "code",
   "execution_count": 184,
   "id": "3f16728c",
   "metadata": {},
   "outputs": [
    {
     "data": {
      "text/plain": [
       "[1, 2, 3, 4, 5, 'python', 45.67, True, 'pyton', [1, 2, 3, 4]]"
      ]
     },
     "execution_count": 184,
     "metadata": {},
     "output_type": "execute_result"
    }
   ],
   "source": [
    "l"
   ]
  },
  {
   "cell_type": "code",
   "execution_count": 185,
   "id": "f2e68458",
   "metadata": {},
   "outputs": [
    {
     "data": {
      "text/plain": [
       "1"
      ]
     },
     "execution_count": 185,
     "metadata": {},
     "output_type": "execute_result"
    }
   ],
   "source": [
    "l.pop(0)"
   ]
  },
  {
   "cell_type": "code",
   "execution_count": 186,
   "id": "bac88730",
   "metadata": {},
   "outputs": [
    {
     "data": {
      "text/plain": [
       "[2, 3, 4, 5, 'python', 45.67, True, 'pyton', [1, 2, 3, 4]]"
      ]
     },
     "execution_count": 186,
     "metadata": {},
     "output_type": "execute_result"
    }
   ],
   "source": [
    "l"
   ]
  },
  {
   "cell_type": "code",
   "execution_count": 187,
   "id": "4110b8d5",
   "metadata": {},
   "outputs": [
    {
     "data": {
      "text/plain": [
       "[1, 2, 3, 4]"
      ]
     },
     "execution_count": 187,
     "metadata": {},
     "output_type": "execute_result"
    }
   ],
   "source": [
    "l.pop()"
   ]
  },
  {
   "cell_type": "code",
   "execution_count": 188,
   "id": "a65abdfa",
   "metadata": {},
   "outputs": [
    {
     "data": {
      "text/plain": [
       "[2, 3, 4, 5, 'python', 45.67, True, 'pyton']"
      ]
     },
     "execution_count": 188,
     "metadata": {},
     "output_type": "execute_result"
    }
   ],
   "source": [
    "l"
   ]
  },
  {
   "cell_type": "code",
   "execution_count": 189,
   "id": "ca7100be",
   "metadata": {},
   "outputs": [],
   "source": [
    "l.reverse()"
   ]
  },
  {
   "cell_type": "code",
   "execution_count": 190,
   "id": "59bc2262",
   "metadata": {},
   "outputs": [
    {
     "data": {
      "text/plain": [
       "['pyton', True, 45.67, 'python', 5, 4, 3, 2]"
      ]
     },
     "execution_count": 190,
     "metadata": {},
     "output_type": "execute_result"
    }
   ],
   "source": [
    "l"
   ]
  },
  {
   "cell_type": "code",
   "execution_count": 191,
   "id": "53394e4d",
   "metadata": {},
   "outputs": [],
   "source": [
    "l=l[::-1]"
   ]
  },
  {
   "cell_type": "code",
   "execution_count": 192,
   "id": "7f85d4f3",
   "metadata": {},
   "outputs": [],
   "source": [
    "l.reverse()"
   ]
  },
  {
   "cell_type": "code",
   "execution_count": 193,
   "id": "77aeb3e4",
   "metadata": {},
   "outputs": [
    {
     "data": {
      "text/plain": [
       "['pyton', True, 45.67, 'python', 5, 4, 3, 2]"
      ]
     },
     "execution_count": 193,
     "metadata": {},
     "output_type": "execute_result"
    }
   ],
   "source": [
    "l"
   ]
  },
  {
   "cell_type": "code",
   "execution_count": 194,
   "id": "2a3789cc",
   "metadata": {},
   "outputs": [],
   "source": [
    "l.append([1,2,3,4])"
   ]
  },
  {
   "cell_type": "code",
   "execution_count": 195,
   "id": "4e057800",
   "metadata": {},
   "outputs": [
    {
     "data": {
      "text/plain": [
       "['pyton', True, 45.67, 'python', 5, 4, 3, 2, [1, 2, 3, 4]]"
      ]
     },
     "execution_count": 195,
     "metadata": {},
     "output_type": "execute_result"
    }
   ],
   "source": [
    "l"
   ]
  },
  {
   "cell_type": "code",
   "execution_count": 196,
   "id": "f8e6b015",
   "metadata": {},
   "outputs": [
    {
     "ename": "TypeError",
     "evalue": "'<' not supported between instances of 'bool' and 'str'",
     "output_type": "error",
     "traceback": [
      "\u001b[1;31m---------------------------------------------------------------------------\u001b[0m",
      "\u001b[1;31mTypeError\u001b[0m                                 Traceback (most recent call last)",
      "Input \u001b[1;32mIn [196]\u001b[0m, in \u001b[0;36m<cell line: 1>\u001b[1;34m()\u001b[0m\n\u001b[1;32m----> 1\u001b[0m \u001b[43ml\u001b[49m\u001b[38;5;241;43m.\u001b[39;49m\u001b[43msort\u001b[49m\u001b[43m(\u001b[49m\u001b[43m)\u001b[49m\n",
      "\u001b[1;31mTypeError\u001b[0m: '<' not supported between instances of 'bool' and 'str'"
     ]
    }
   ],
   "source": [
    "l.sort()"
   ]
  },
  {
   "cell_type": "code",
   "execution_count": null,
   "id": "e2604816",
   "metadata": {},
   "outputs": [],
   "source": []
  }
 ],
 "metadata": {
  "kernelspec": {
   "display_name": "Python 3 (ipykernel)",
   "language": "python",
   "name": "python3"
  },
  "language_info": {
   "codemirror_mode": {
    "name": "ipython",
    "version": 3
   },
   "file_extension": ".py",
   "mimetype": "text/x-python",
   "name": "python",
   "nbconvert_exporter": "python",
   "pygments_lexer": "ipython3",
   "version": "3.9.12"
  }
 },
 "nbformat": 4,
 "nbformat_minor": 5
}
